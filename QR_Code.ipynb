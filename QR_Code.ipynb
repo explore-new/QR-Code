{
  "nbformat": 4,
  "nbformat_minor": 0,
  "metadata": {
    "colab": {
      "provenance": [],
      "authorship_tag": "ABX9TyO52j/eC2AsEQsR84ApWFpH",
      "include_colab_link": true
    },
    "kernelspec": {
      "name": "python3",
      "display_name": "Python 3"
    },
    "language_info": {
      "name": "python"
    }
  },
  "cells": [
    {
      "cell_type": "markdown",
      "metadata": {
        "id": "view-in-github",
        "colab_type": "text"
      },
      "source": [
        "<a href=\"https://colab.research.google.com/github/explore-new/QR-Code/blob/main/QR_Code.ipynb\" target=\"_parent\"><img src=\"https://colab.research.google.com/assets/colab-badge.svg\" alt=\"Open In Colab\"/></a>"
      ]
    },
    {
      "cell_type": "code",
      "source": [
        "!pip install qrcode &> /dev/null\n",
        "!pip install openCV-python &> /dev/null\n",
        "print(\"qrcode installed sucessfully\")\n",
        "print(\"openCV-python installed sucessfully\")"
      ],
      "metadata": {
        "id": "AIBeuhPu03Fm",
        "colab": {
          "base_uri": "https://localhost:8080/"
        },
        "outputId": "88af233f-5078-4fc6-ddca-a382db5cd087"
      },
      "execution_count": 2,
      "outputs": [
        {
          "output_type": "stream",
          "name": "stdout",
          "text": [
            "qrcode installed sucessfully\n",
            "openCV-python installed sucessfully\n"
          ]
        }
      ]
    },
    {
      "cell_type": "code",
      "source": [
        "#for simple qr code\n",
        "import qrcode\n",
        "p=qrcode.make(input(\"Enter the data\\n\"))\n",
        "p.save(\"QRimg.jpg\")\n",
        "print(type(p))\n",
        "print(p.size)"
      ],
      "metadata": {
        "id": "z59MzSTV1FA-",
        "colab": {
          "base_uri": "https://localhost:8080/"
        },
        "outputId": "e0f1b4ae-9013-4a4f-f268-f4e693196253"
      },
      "execution_count": 4,
      "outputs": [
        {
          "output_type": "stream",
          "name": "stdout",
          "text": [
            "Enter the data\n",
            "Akshita\n",
            "<class 'qrcode.image.pil.PilImage'>\n",
            "(290, 290)\n"
          ]
        }
      ]
    },
    {
      "cell_type": "code",
      "source": [
        "# To read the simple QR Code\n",
        "import cv2\n",
        "s=cv2.QRCodeDetector()\n",
        "val, points, straight_qr_code = s.detectAndDecode(cv2.imread(\"QRimg.jpg\"))\n",
        "print(\"Decoded data-\",val)"
      ],
      "metadata": {
        "id": "7jrz5yI_Rekq",
        "colab": {
          "base_uri": "https://localhost:8080/"
        },
        "outputId": "f51d92af-3127-47f9-9cdf-4a9bc47b3d83"
      },
      "execution_count": 6,
      "outputs": [
        {
          "output_type": "stream",
          "name": "stdout",
          "text": [
            "Decoded data- Akshita\n"
          ]
        }
      ]
    },
    {
      "cell_type": "code",
      "source": [
        "#For specific colour QR Code\n",
        "import qrcode\n",
        "w1= qrcode.QRCode()\n",
        "w1.add_data(input(\"Enter the data\\n\"))\n",
        "w1.make()\n",
        "i1=w1.make_image(fill_color=input(\"Enter the fill colour\\n\"),back_color=input(\"Enter the back colour\\n\"))\n",
        "i1.save('QR.jpg')"
      ],
      "metadata": {
        "id": "337qmT_E_6Aj",
        "colab": {
          "base_uri": "https://localhost:8080/"
        },
        "outputId": "357cfafc-a12e-4682-f683-16f21cff51b5"
      },
      "execution_count": 11,
      "outputs": [
        {
          "name": "stdout",
          "output_type": "stream",
          "text": [
            "Enter the data\n",
            "Akshita\n",
            "Enter the fill colour\n",
            "Black\n",
            "Enter the back colour\n",
            "Pink\n"
          ]
        }
      ]
    },
    {
      "cell_type": "code",
      "source": [
        "#For READINGspecific colour QR Code\n",
        "import cv2\n",
        "j=cv2.QRCodeDetector()\n",
        "val, points, straight_qr_code = j.detectAndDecode(cv2.imread(\"QR.jpg\"))\n",
        "print(\"Data:\",val)"
      ],
      "metadata": {
        "id": "aXbZHbXALLBO",
        "colab": {
          "base_uri": "https://localhost:8080/"
        },
        "outputId": "4425be60-9210-416e-e3cd-643fd1dd67ef"
      },
      "execution_count": 13,
      "outputs": [
        {
          "output_type": "stream",
          "name": "stdout",
          "text": [
            "Data: Akshita\n"
          ]
        }
      ]
    },
    {
      "cell_type": "markdown",
      "source": [
        "**Final QR code generator and reader**"
      ],
      "metadata": {
        "id": "ZuNkv_4RHH2G"
      }
    },
    {
      "cell_type": "code",
      "source": [
        "# QR Code Generator\n",
        "import qrcode\n",
        "print(\"Any specific colour demand for qr code generation y or n\\n\")\n",
        "a=input(\"enter y or n\\n\")\n",
        "if(a==\"y\" or a==\"Y\"):\n",
        "  w= qrcode.QRCode()\n",
        "  w.add_data(input(\"Enter the data\\n\"))\n",
        "  w.make()\n",
        "  print(\"NOTE: Remember that the back colour is always lighter than the fill colour \")\n",
        "  i=w.make_image(fill_color=input(\"Enter the fill colour\\n\"),back_color=input(\"Enter the back colour\\n\"))\n",
        "  i.save(input(\"Enter the name of the image\\n\")+\".jpg\")\n",
        "  print(\"QR Code generated sucessfully done\")\n",
        "elif(a==\"n\" or a==\"N\"):\n",
        "  e=qrcode.make(input(\"Enter the data\\n\"))\n",
        "  e.save(input(\"Enter the name of the image\\n\")+\".jpg\")\n",
        "  print(\"QR Code generated sucessfully done\")\n",
        "else:\n",
        "  print(\"invalid input\")\n"
      ],
      "metadata": {
        "id": "BdFJTZqxDfiU",
        "colab": {
          "base_uri": "https://localhost:8080/"
        },
        "outputId": "872bef2b-fa6c-4163-9e4c-b9a873686ab7"
      },
      "execution_count": 14,
      "outputs": [
        {
          "output_type": "stream",
          "name": "stdout",
          "text": [
            "Any specific colour demand for qr code generation y or n\n",
            "\n",
            "enter y or n\n",
            "y\n",
            "Enter the data\n",
            "Akshita\n",
            "NOTE: Remember that the back colour is always lighter than the fill colour \n",
            "Enter the fill colour\n",
            "Brown\n",
            "Enter the back colour\n",
            "Yellow\n",
            "Enter the name of the image\n",
            "Code\n",
            "QR Code generated sucessfully done\n"
          ]
        }
      ]
    },
    {
      "cell_type": "code",
      "source": [
        "# QR Code Reader\n",
        "import cv2\n",
        "g=cv2.QRCodeDetector()\n",
        "val, points, straight_qr_code = g.detectAndDecode(cv2.imread(input(\"Enter the name of the image\\n\")+\".jpg\"))\n",
        "print(\"Decoded data:\",val)\n"
      ],
      "metadata": {
        "id": "wV6ZfqtmHGxB",
        "colab": {
          "base_uri": "https://localhost:8080/"
        },
        "outputId": "52423762-112c-4154-d172-746c397c53c4"
      },
      "execution_count": 18,
      "outputs": [
        {
          "output_type": "stream",
          "name": "stdout",
          "text": [
            "Enter the name of the image\n",
            "Code\n",
            "Decoded data: Akshita\n"
          ]
        }
      ]
    }
  ]
}